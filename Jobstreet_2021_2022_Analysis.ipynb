{
  "nbformat": 4,
  "nbformat_minor": 0,
  "metadata": {
    "colab": {
      "provenance": []
    },
    "kernelspec": {
      "name": "python3",
      "display_name": "Python 3"
    },
    "language_info": {
      "name": "python"
    }
  },
  "cells": [
    {
      "cell_type": "markdown",
      "source": [
        "**Library**"
      ],
      "metadata": {
        "id": "T3QC03Iy9rbF"
      }
    },
    {
      "cell_type": "code",
      "execution_count": null,
      "metadata": {
        "id": "2SfnRP3J_Tuk"
      },
      "outputs": [],
      "source": [
        "import pandas as pd"
      ]
    },
    {
      "cell_type": "markdown",
      "source": [
        "**Data Collect**"
      ],
      "metadata": {
        "id": "lwNJGOMwA3zR"
      }
    },
    {
      "cell_type": "code",
      "source": [
        "data_origin = pd.read_csv('mergeFile - Copy - Copy.csv')"
      ],
      "metadata": {
        "colab": {
          "base_uri": "https://localhost:8080/"
        },
        "id": "6jwZvIPJAANS",
        "outputId": "71bad78f-1f8b-4c6a-bb3a-581816cdbc8c"
      },
      "execution_count": null,
      "outputs": [
        {
          "output_type": "stream",
          "name": "stderr",
          "text": [
            "/tmp/ipython-input-2786517053.py:1: DtypeWarning: Columns (5,7,8,9,11,17,19,20,21,22,23) have mixed types. Specify dtype option on import or set low_memory=False.\n",
            "  data_origin = pd.read_csv('mergeFile - Copy - Copy.csv')\n"
          ]
        }
      ]
    },
    {
      "cell_type": "code",
      "source": [
        "print(data_origin.info())"
      ],
      "metadata": {
        "colab": {
          "base_uri": "https://localhost:8080/"
        },
        "id": "mygkejf7AlWc",
        "outputId": "d57d5df9-183b-4a7c-f8b6-8cf02f0fbaab"
      },
      "execution_count": null,
      "outputs": [
        {
          "output_type": "stream",
          "name": "stdout",
          "text": [
            "<class 'pandas.core.frame.DataFrame'>\n",
            "RangeIndex: 623610 entries, 0 to 623609\n",
            "Data columns (total 24 columns):\n",
            " #   Column              Non-Null Count   Dtype  \n",
            "---  ------              --------------   -----  \n",
            " 0   Unnamed: 0          623610 non-null  int64  \n",
            " 1   adType              623599 non-null  object \n",
            " 2   categoriesCode      621729 non-null  object \n",
            " 3   categoriesName      621652 non-null  object \n",
            " 4   companyId           612340 non-null  object \n",
            " 5   companyName         612428 non-null  object \n",
            " 6   companyPrivate      616919 non-null  float64\n",
            " 7   description         246173 non-null  object \n",
            " 8   employment          358651 non-null  object \n",
            " 9   id                  623610 non-null  object \n",
            " 10  isClassified        623610 non-null  bool   \n",
            " 11  isStandout          623610 non-null  object \n",
            " 12  jobTitle            623610 non-null  object \n",
            " 13  jobUrl              623610 non-null  object \n",
            " 14  locations           623576 non-null  object \n",
            " 15  postingDuration     617900 non-null  object \n",
            " 16  postedAt            623610 non-null  object \n",
            " 17  salarycurrency      94482 non-null   object \n",
            " 18  salaryMin           94468 non-null   float64\n",
            " 19  salaryMax           100176 non-null  object \n",
            " 20  salaryPeriod        616855 non-null  object \n",
            " 21  salaryTerm          645 non-null     object \n",
            " 22  sellingPoints       60089 non-null   object \n",
            " 23  companyDescription  3688 non-null    object \n",
            "dtypes: bool(1), float64(2), int64(1), object(20)\n",
            "memory usage: 110.0+ MB\n",
            "None\n"
          ]
        }
      ]
    },
    {
      "cell_type": "markdown",
      "source": [
        "**Data Cleaning**"
      ],
      "metadata": {
        "id": "01OdLUoaAzMY"
      }
    },
    {
      "cell_type": "code",
      "source": [
        "data_origin = data_origin.drop(columns = [\"companyPrivate\",\"jobUrl\", \"postingDuration\"])\n",
        "print(data_origin.info())"
      ],
      "metadata": {
        "colab": {
          "base_uri": "https://localhost:8080/"
        },
        "id": "fhijen0tAxxH",
        "outputId": "40a05866-eabc-4e46-8616-683e8e111b9e"
      },
      "execution_count": null,
      "outputs": [
        {
          "output_type": "stream",
          "name": "stdout",
          "text": [
            "<class 'pandas.core.frame.DataFrame'>\n",
            "RangeIndex: 623610 entries, 0 to 623609\n",
            "Data columns (total 21 columns):\n",
            " #   Column              Non-Null Count   Dtype  \n",
            "---  ------              --------------   -----  \n",
            " 0   Unnamed: 0          623610 non-null  int64  \n",
            " 1   adType              623599 non-null  object \n",
            " 2   categoriesCode      621729 non-null  object \n",
            " 3   categoriesName      621652 non-null  object \n",
            " 4   companyId           612340 non-null  object \n",
            " 5   companyName         612428 non-null  object \n",
            " 6   description         246173 non-null  object \n",
            " 7   employment          358651 non-null  object \n",
            " 8   id                  623610 non-null  object \n",
            " 9   isClassified        623610 non-null  bool   \n",
            " 10  isStandout          623610 non-null  object \n",
            " 11  jobTitle            623610 non-null  object \n",
            " 12  locations           623576 non-null  object \n",
            " 13  postedAt            623610 non-null  object \n",
            " 14  salarycurrency      94482 non-null   object \n",
            " 15  salaryMin           94468 non-null   float64\n",
            " 16  salaryMax           100176 non-null  object \n",
            " 17  salaryPeriod        616855 non-null  object \n",
            " 18  salaryTerm          645 non-null     object \n",
            " 19  sellingPoints       60089 non-null   object \n",
            " 20  companyDescription  3688 non-null    object \n",
            "dtypes: bool(1), float64(1), int64(1), object(18)\n",
            "memory usage: 95.8+ MB\n",
            "None\n"
          ]
        }
      ]
    },
    {
      "cell_type": "code",
      "source": [
        "# Menjadi timezone biar naive (tanpa UTC info)\n",
        "data_origin['postedAt'] = pd.to_datetime(data_origin['postedAt'], errors='coerce', utc=True)\n",
        "\n",
        "data_origin['postedAt'] = data_origin['postedAt'].dt.tz_convert(None)\n",
        "\n",
        "print(data_origin['postedAt'].dtype)"
      ],
      "metadata": {
        "colab": {
          "base_uri": "https://localhost:8080/"
        },
        "id": "1GVUcHTWB_Bh",
        "outputId": "46407c85-07dc-49ed-8108-d208cd4aa169"
      },
      "execution_count": null,
      "outputs": [
        {
          "output_type": "stream",
          "name": "stdout",
          "text": [
            "datetime64[ns]\n"
          ]
        }
      ]
    },
    {
      "cell_type": "code",
      "source": [
        "# Konversi ke float\n",
        "data_origin['salaryMax'] = pd.to_numeric(data_origin['salaryMax'], errors='coerce')\n",
        "\n",
        "print(data_origin['salaryMax'].dtype)"
      ],
      "metadata": {
        "colab": {
          "base_uri": "https://localhost:8080/"
        },
        "id": "-35HFhO-CjdK",
        "outputId": "2bc7dbee-d6f3-4d57-8d10-387dc5d9f5d4"
      },
      "execution_count": null,
      "outputs": [
        {
          "output_type": "stream",
          "name": "stdout",
          "text": [
            "float64\n"
          ]
        }
      ]
    },
    {
      "cell_type": "code",
      "source": [
        "print(data_origin.info())"
      ],
      "metadata": {
        "colab": {
          "base_uri": "https://localhost:8080/"
        },
        "id": "tPTcJ48tCqvC",
        "outputId": "f54aa7e3-2f9d-47a5-d44e-88b187717efe"
      },
      "execution_count": null,
      "outputs": [
        {
          "output_type": "stream",
          "name": "stdout",
          "text": [
            "<class 'pandas.core.frame.DataFrame'>\n",
            "RangeIndex: 623610 entries, 0 to 623609\n",
            "Data columns (total 21 columns):\n",
            " #   Column              Non-Null Count   Dtype         \n",
            "---  ------              --------------   -----         \n",
            " 0   Unnamed: 0          623610 non-null  int64         \n",
            " 1   adType              623599 non-null  object        \n",
            " 2   categoriesCode      621729 non-null  object        \n",
            " 3   categoriesName      621652 non-null  object        \n",
            " 4   companyId           612340 non-null  object        \n",
            " 5   companyName         612428 non-null  object        \n",
            " 6   description         246173 non-null  object        \n",
            " 7   employment          358651 non-null  object        \n",
            " 8   id                  623610 non-null  object        \n",
            " 9   isClassified        623610 non-null  bool          \n",
            " 10  isStandout          623610 non-null  object        \n",
            " 11  jobTitle            623610 non-null  object        \n",
            " 12  locations           623576 non-null  object        \n",
            " 13  postedAt            616919 non-null  datetime64[ns]\n",
            " 14  salarycurrency      94482 non-null   object        \n",
            " 15  salaryMin           94468 non-null   float64       \n",
            " 16  salaryMax           93485 non-null   float64       \n",
            " 17  salaryPeriod        616855 non-null  object        \n",
            " 18  salaryTerm          645 non-null     object        \n",
            " 19  sellingPoints       60089 non-null   object        \n",
            " 20  companyDescription  3688 non-null    object        \n",
            "dtypes: bool(1), datetime64[ns](1), float64(2), int64(1), object(16)\n",
            "memory usage: 95.8+ MB\n",
            "None\n"
          ]
        }
      ]
    },
    {
      "cell_type": "code",
      "source": [
        "print(data_origin.shape)"
      ],
      "metadata": {
        "colab": {
          "base_uri": "https://localhost:8080/"
        },
        "id": "dB4NK5vLDSDN",
        "outputId": "892993b9-24c0-4459-990e-a06143a75815"
      },
      "execution_count": null,
      "outputs": [
        {
          "output_type": "stream",
          "name": "stdout",
          "text": [
            "(623610, 21)\n"
          ]
        }
      ]
    },
    {
      "cell_type": "code",
      "source": [
        "data_origin.isnull().sum()"
      ],
      "metadata": {
        "colab": {
          "base_uri": "https://localhost:8080/",
          "height": 742
        },
        "id": "ulbpRMZOCyQl",
        "outputId": "6e4ff31a-de51-4bd2-b4c7-d8e2998efe55"
      },
      "execution_count": null,
      "outputs": [
        {
          "output_type": "execute_result",
          "data": {
            "text/plain": [
              "Unnamed: 0                 0\n",
              "adType                    11\n",
              "categoriesCode          1881\n",
              "categoriesName          1958\n",
              "companyId              11270\n",
              "companyName            11182\n",
              "description           377437\n",
              "employment            264959\n",
              "id                         0\n",
              "isClassified               0\n",
              "isStandout                 0\n",
              "jobTitle                   0\n",
              "locations                 34\n",
              "postedAt                6691\n",
              "salarycurrency        529128\n",
              "salaryMin             529142\n",
              "salaryMax             530125\n",
              "salaryPeriod            6755\n",
              "salaryTerm            622965\n",
              "sellingPoints         563521\n",
              "companyDescription    619922\n",
              "dtype: int64"
            ],
            "text/html": [
              "<div>\n",
              "<style scoped>\n",
              "    .dataframe tbody tr th:only-of-type {\n",
              "        vertical-align: middle;\n",
              "    }\n",
              "\n",
              "    .dataframe tbody tr th {\n",
              "        vertical-align: top;\n",
              "    }\n",
              "\n",
              "    .dataframe thead th {\n",
              "        text-align: right;\n",
              "    }\n",
              "</style>\n",
              "<table border=\"1\" class=\"dataframe\">\n",
              "  <thead>\n",
              "    <tr style=\"text-align: right;\">\n",
              "      <th></th>\n",
              "      <th>0</th>\n",
              "    </tr>\n",
              "  </thead>\n",
              "  <tbody>\n",
              "    <tr>\n",
              "      <th>Unnamed: 0</th>\n",
              "      <td>0</td>\n",
              "    </tr>\n",
              "    <tr>\n",
              "      <th>adType</th>\n",
              "      <td>11</td>\n",
              "    </tr>\n",
              "    <tr>\n",
              "      <th>categoriesCode</th>\n",
              "      <td>1881</td>\n",
              "    </tr>\n",
              "    <tr>\n",
              "      <th>categoriesName</th>\n",
              "      <td>1958</td>\n",
              "    </tr>\n",
              "    <tr>\n",
              "      <th>companyId</th>\n",
              "      <td>11270</td>\n",
              "    </tr>\n",
              "    <tr>\n",
              "      <th>companyName</th>\n",
              "      <td>11182</td>\n",
              "    </tr>\n",
              "    <tr>\n",
              "      <th>description</th>\n",
              "      <td>377437</td>\n",
              "    </tr>\n",
              "    <tr>\n",
              "      <th>employment</th>\n",
              "      <td>264959</td>\n",
              "    </tr>\n",
              "    <tr>\n",
              "      <th>id</th>\n",
              "      <td>0</td>\n",
              "    </tr>\n",
              "    <tr>\n",
              "      <th>isClassified</th>\n",
              "      <td>0</td>\n",
              "    </tr>\n",
              "    <tr>\n",
              "      <th>isStandout</th>\n",
              "      <td>0</td>\n",
              "    </tr>\n",
              "    <tr>\n",
              "      <th>jobTitle</th>\n",
              "      <td>0</td>\n",
              "    </tr>\n",
              "    <tr>\n",
              "      <th>locations</th>\n",
              "      <td>34</td>\n",
              "    </tr>\n",
              "    <tr>\n",
              "      <th>postedAt</th>\n",
              "      <td>6691</td>\n",
              "    </tr>\n",
              "    <tr>\n",
              "      <th>salarycurrency</th>\n",
              "      <td>529128</td>\n",
              "    </tr>\n",
              "    <tr>\n",
              "      <th>salaryMin</th>\n",
              "      <td>529142</td>\n",
              "    </tr>\n",
              "    <tr>\n",
              "      <th>salaryMax</th>\n",
              "      <td>530125</td>\n",
              "    </tr>\n",
              "    <tr>\n",
              "      <th>salaryPeriod</th>\n",
              "      <td>6755</td>\n",
              "    </tr>\n",
              "    <tr>\n",
              "      <th>salaryTerm</th>\n",
              "      <td>622965</td>\n",
              "    </tr>\n",
              "    <tr>\n",
              "      <th>sellingPoints</th>\n",
              "      <td>563521</td>\n",
              "    </tr>\n",
              "    <tr>\n",
              "      <th>companyDescription</th>\n",
              "      <td>619922</td>\n",
              "    </tr>\n",
              "  </tbody>\n",
              "</table>\n",
              "</div><br><label><b>dtype:</b> int64</label>"
            ]
          },
          "metadata": {},
          "execution_count": 9
        }
      ]
    },
    {
      "cell_type": "code",
      "source": [
        "data_filled = data_origin.fillna(0)\n",
        "data_filled.isnull().sum()"
      ],
      "metadata": {
        "colab": {
          "base_uri": "https://localhost:8080/",
          "height": 742
        },
        "id": "yu5TtfftDOzg",
        "outputId": "29863933-8bc8-48a5-8fd0-30998b13d99b"
      },
      "execution_count": null,
      "outputs": [
        {
          "output_type": "execute_result",
          "data": {
            "text/plain": [
              "Unnamed: 0            0\n",
              "adType                0\n",
              "categoriesCode        0\n",
              "categoriesName        0\n",
              "companyId             0\n",
              "companyName           0\n",
              "description           0\n",
              "employment            0\n",
              "id                    0\n",
              "isClassified          0\n",
              "isStandout            0\n",
              "jobTitle              0\n",
              "locations             0\n",
              "postedAt              0\n",
              "salarycurrency        0\n",
              "salaryMin             0\n",
              "salaryMax             0\n",
              "salaryPeriod          0\n",
              "salaryTerm            0\n",
              "sellingPoints         0\n",
              "companyDescription    0\n",
              "dtype: int64"
            ],
            "text/html": [
              "<div>\n",
              "<style scoped>\n",
              "    .dataframe tbody tr th:only-of-type {\n",
              "        vertical-align: middle;\n",
              "    }\n",
              "\n",
              "    .dataframe tbody tr th {\n",
              "        vertical-align: top;\n",
              "    }\n",
              "\n",
              "    .dataframe thead th {\n",
              "        text-align: right;\n",
              "    }\n",
              "</style>\n",
              "<table border=\"1\" class=\"dataframe\">\n",
              "  <thead>\n",
              "    <tr style=\"text-align: right;\">\n",
              "      <th></th>\n",
              "      <th>0</th>\n",
              "    </tr>\n",
              "  </thead>\n",
              "  <tbody>\n",
              "    <tr>\n",
              "      <th>Unnamed: 0</th>\n",
              "      <td>0</td>\n",
              "    </tr>\n",
              "    <tr>\n",
              "      <th>adType</th>\n",
              "      <td>0</td>\n",
              "    </tr>\n",
              "    <tr>\n",
              "      <th>categoriesCode</th>\n",
              "      <td>0</td>\n",
              "    </tr>\n",
              "    <tr>\n",
              "      <th>categoriesName</th>\n",
              "      <td>0</td>\n",
              "    </tr>\n",
              "    <tr>\n",
              "      <th>companyId</th>\n",
              "      <td>0</td>\n",
              "    </tr>\n",
              "    <tr>\n",
              "      <th>companyName</th>\n",
              "      <td>0</td>\n",
              "    </tr>\n",
              "    <tr>\n",
              "      <th>description</th>\n",
              "      <td>0</td>\n",
              "    </tr>\n",
              "    <tr>\n",
              "      <th>employment</th>\n",
              "      <td>0</td>\n",
              "    </tr>\n",
              "    <tr>\n",
              "      <th>id</th>\n",
              "      <td>0</td>\n",
              "    </tr>\n",
              "    <tr>\n",
              "      <th>isClassified</th>\n",
              "      <td>0</td>\n",
              "    </tr>\n",
              "    <tr>\n",
              "      <th>isStandout</th>\n",
              "      <td>0</td>\n",
              "    </tr>\n",
              "    <tr>\n",
              "      <th>jobTitle</th>\n",
              "      <td>0</td>\n",
              "    </tr>\n",
              "    <tr>\n",
              "      <th>locations</th>\n",
              "      <td>0</td>\n",
              "    </tr>\n",
              "    <tr>\n",
              "      <th>postedAt</th>\n",
              "      <td>0</td>\n",
              "    </tr>\n",
              "    <tr>\n",
              "      <th>salarycurrency</th>\n",
              "      <td>0</td>\n",
              "    </tr>\n",
              "    <tr>\n",
              "      <th>salaryMin</th>\n",
              "      <td>0</td>\n",
              "    </tr>\n",
              "    <tr>\n",
              "      <th>salaryMax</th>\n",
              "      <td>0</td>\n",
              "    </tr>\n",
              "    <tr>\n",
              "      <th>salaryPeriod</th>\n",
              "      <td>0</td>\n",
              "    </tr>\n",
              "    <tr>\n",
              "      <th>salaryTerm</th>\n",
              "      <td>0</td>\n",
              "    </tr>\n",
              "    <tr>\n",
              "      <th>sellingPoints</th>\n",
              "      <td>0</td>\n",
              "    </tr>\n",
              "    <tr>\n",
              "      <th>companyDescription</th>\n",
              "      <td>0</td>\n",
              "    </tr>\n",
              "  </tbody>\n",
              "</table>\n",
              "</div><br><label><b>dtype:</b> int64</label>"
            ]
          },
          "metadata": {},
          "execution_count": 10
        }
      ]
    },
    {
      "cell_type": "markdown",
      "source": [
        "**Data Exploratory**"
      ],
      "metadata": {
        "id": "YM6dGjA_9xAs"
      }
    },
    {
      "cell_type": "code",
      "source": [
        "print(data_filled['locations'].unique()[:50])"
      ],
      "metadata": {
        "colab": {
          "base_uri": "https://localhost:8080/"
        },
        "id": "8nXN5YEsDzXc",
        "outputId": "b6422ecc-aed2-44e0-cfac-fcaf93d796ed"
      },
      "execution_count": null,
      "outputs": [
        {
          "output_type": "stream",
          "name": "stdout",
          "text": [
            "['Jakarta Selatan' 'Tangerang' 'Bandung' 'Surabaya' 'Bekasi'\n",
            " 'Kalimantan Timur,Kalimantan Selatan' 'Semarang' 'Jakarta Barat'\n",
            " 'Jakarta Utara' 'Jakarta Barat,Tangerang' 'Jakarta Barat,Malang'\n",
            " 'Jakarta Raya'\n",
            " 'Batam,Jakarta Raya,Bogor,Bekasi,Depok,Banjarmasin,Surabaya,Denpasar,Pontianak'\n",
            " 'Riau' 'Jakarta Pusat' 'Yogyakarta' 'Batam' 'Jawa Barat' 'Jawa Tengah'\n",
            " 'Cikarang' 'Seminyak' 'Indonesia' 'Cilegon' 'Jakarta Timur' 'Batam,Riau'\n",
            " 'Kuta' 'Makassar' 'Karawang' 'Jawa Timur' 'Bali'\n",
            " 'Jakarta Raya,Bogor,Depok,Banten' 'Bogor' 'Cikarang,Jakarta Raya'\n",
            " 'Magelang,Salatiga,Kudus' 'Bogor,Jakarta Raya' 'Depok' 'Banten'\n",
            " 'Salatiga,Semarang,Tegal' 'Sulawesi Tengah,Jakarta Raya,Manado,Halmahera'\n",
            " 'Jepara' 'Padang,Bukittinggi,Dumai,Pekanbaru,Bintan,Batam'\n",
            " 'Sibolga,Padang Sidempuan' 'Jakarta Raya,Banten'\n",
            " 'Jakarta Raya,Bekasi,Depok,Tangerang' 'Sumatera Utara'\n",
            " 'Jawa Timur,Jakarta Raya' 'Tangerang,Jakarta Raya'\n",
            " 'Tangerang,Jakarta Barat' 'Cilacap,Pekalongan,Purwokerto,Tegal'\n",
            " 'Medan,Bandung']\n"
          ]
        }
      ]
    },
    {
      "cell_type": "code",
      "source": [
        "mapping = {\n",
        "    'Jakarta Barat': 'Jakarta',\n",
        "    'Jakarta Utara': 'Jakarta',\n",
        "    'Jakarta Raya': 'Jakarta',\n",
        "    'Jakarta Pusat': 'Jakarta',\n",
        "    'Jakarta Selatan': 'Jakarta',\n",
        "    'Jakarta Timur': 'Jakarta'\n",
        "}\n",
        "\n",
        "# langsung replace di kolom locations\n",
        "data_filled['locations'] = data_filled['locations'].replace(mapping)\n"
      ],
      "metadata": {
        "id": "kWT4V6snKQKK"
      },
      "execution_count": null,
      "outputs": []
    },
    {
      "cell_type": "code",
      "source": [
        "# pastikan kolom 'locations' string\n",
        "data_filled['locations'] = data_filled['locations'].astype(str).str.strip()\n",
        "\n",
        "# drop semua baris yang mengandung koma di kolom 'locations'\n",
        "data_exploded = data_filled[~data_filled['locations'].str.contains(\",\", regex=False)]\n",
        "\n",
        "print(data_exploded ['locations'].unique()[:20])\n",
        "print(\"Jumlah baris:\", data_exploded.shape[0])\n"
      ],
      "metadata": {
        "colab": {
          "base_uri": "https://localhost:8080/"
        },
        "id": "Nl8dhGizEsmV",
        "outputId": "03a5d230-faf5-4106-f251-5fb29c5f4d92"
      },
      "execution_count": null,
      "outputs": [
        {
          "output_type": "stream",
          "name": "stdout",
          "text": [
            "['Jakarta' 'Tangerang' 'Bandung' 'Surabaya' 'Bekasi' 'Semarang' 'Riau'\n",
            " 'Yogyakarta' 'Batam' 'Jawa Barat' 'Jawa Tengah' 'Cikarang' 'Seminyak'\n",
            " 'Indonesia' 'Cilegon' 'Kuta' 'Makassar' 'Karawang' 'Jawa Timur' 'Bali']\n",
            "Jumlah baris: 588434\n"
          ]
        }
      ]
    },
    {
      "cell_type": "code",
      "source": [
        "drop_list = [\n",
        "    'Jawa Barat', 'Jawa Tengah', 'Jawa Timur', 'Indonesia','Sumatera Utara','Sumatera Selatan','Sumatera Barat', 'Kalimantan Utara','Kalimantan Barat','Kalimantan Tengah', 'Kalimantan Selatan', '0',\n",
        "    'Sulawesi Tengah', 'Sulawesi Tenggara', 'Sulawesi Barat','Sulawesi Selatan', 'Nusa Tenggara Timur', 'Sulawesi Utara','Nusa Tenggara Barat','Papua', 'Papua Barat',\n",
        "    'Maluku Barat','Plot 2', 'Serasa Industrial Area', 'Brunei Muara', 'TRIMULIA Tower Sihanoukville Cambodia','Savannakhet Province',\n",
        "    'Taiwan', 'Central', 'United Arab Emirates', 'Kuwait','East', 'Myanmar',  'National Capital Reg','Papua New Guinea', 'Kabupaten Katingan',\n",
        "    'Brunei', 'North-East', 'Australia', 'Maluku Tengah','Cambodia,' 'West','Downtown Core', 'Saudi Arabia',\n",
        "    'Outram', 'Thailand','Netherlands', 'Qatar', 'Cyberjaya', 'Sukamara' 'Taiwan', 'Laos', 'United Kingdom', 'Singapore', 'China',\n",
        "    'ARMM', 'Japan','Timor-Leste', 'Maluku Tenggara', 'Bali', 'IBP2', 'India','Others','Singapura', 'Cambodia', 'West'\n",
        "]\n",
        "\n",
        "# Drop baris yang lokasi-nya ada di drop_list\n",
        "data_exploded = data_exploded[~data_exploded['locations'].isin(drop_list)]\n",
        "\n",
        "print(data_exploded['locations'].unique()[:1000])\n"
      ],
      "metadata": {
        "colab": {
          "base_uri": "https://localhost:8080/"
        },
        "id": "cL6FnNW9F21O",
        "outputId": "9f1d9d5f-dc03-45f0-a203-901a13227fd2"
      },
      "execution_count": null,
      "outputs": [
        {
          "output_type": "stream",
          "name": "stdout",
          "text": [
            "['Jakarta' 'Tangerang' 'Bandung' 'Surabaya' 'Bekasi' 'Semarang' 'Riau'\n",
            " 'Yogyakarta' 'Batam' 'Cikarang' 'Seminyak' 'Cilegon' 'Kuta' 'Makassar'\n",
            " 'Karawang' 'Bogor' 'Depok' 'Banten' 'Jepara' 'Kota Banda Aceh' 'Jember'\n",
            " 'Pekanbaru' 'Medan' 'Pontianak' 'Manado' 'Metro Manila' 'Tuban'\n",
            " 'Denpasar' 'Natuna Ranai' 'Samarinda' 'Purbalingga' 'Balikpapan'\n",
            " 'Jayapura' 'Banjarmasin' 'Badung' 'Kendari' 'Purwokerto' 'Tegal' 'Serang'\n",
            " 'Tasikmalaya' 'Surakarta' 'Maluku Utara' 'Cikupa' 'Demak' 'Binjai'\n",
            " 'Cilacap' 'Banyuwangi' 'Jambi' 'Salatiga' 'Lhokseumawe' 'Cirebon'\n",
            " 'Cianjur' 'Bintan' 'Palu' 'Malang' 'Sidoarjo' 'Kudus' 'Kupang'\n",
            " 'Kotawaringin Barat' 'Palembang' 'Sleman' 'Kotawaringin Timur'\n",
            " 'Kalimantan Timur' 'Cibinong' 'Kota Damansara' 'Gresik' 'Bandar Lampung'\n",
            " 'Mojokerto' 'Cileungsi' 'Bangka Belitung' 'Bantul' 'Mandaluyong'\n",
            " 'Bontang' 'Purwakarta' 'Gorontalo' 'Sintang' 'Paser' 'Brebes' 'Ungaran'\n",
            " 'Palangkaraya' 'Sukabumi' 'Ponorogo' 'Pekalongan' 'Kediri' 'Pare-Pare'\n",
            " 'Murung Raya' 'Meulaboh' 'Madiun' 'Kutai Kartanegara' 'Padang' 'Magelang'\n",
            " 'Nunukan' 'Kutai Timur' 'Pandeglang' 'Gunung Mas' 'Tabalong' 'Bengkulu'\n",
            " 'Kutai Barat' 'Phnom Penh' 'Pasuruan' 'Aceh' 'Klaten' 'Gianyar'\n",
            " 'Ketapang' 'Citeureup' 'Pemalang' 'Blitar' 'Lampung' 'Lombok' 'Bone'\n",
            " 'Ambon' 'Cimahi' 'Tanjung Pinang' 'Mataram' 'Timika' 'Sorong' 'Kapuas'\n",
            " 'Pangkal Pinang' 'Metro' 'Halmahera' 'Probolinggo' 'Purworejo' 'Bangka'\n",
            " 'Palopo' 'Rangkasbitung' 'Wonogiri' 'Makati City' 'Mamuju' 'Sumbawa'\n",
            " 'Dumai' 'Flores Timur Larantuka' 'Banjarnegara' 'Pematangsiantar'\n",
            " 'Madura' 'Gowa' 'Muara Enim' 'Bukittinggi' 'Bulungan' 'Tarakan' 'Ubud'\n",
            " 'Gunung Kidul' 'Ternate' 'Kepulauan Seribu' 'Seruyan' 'Maros'\n",
            " 'Kepulauan Riau' 'Barito Selatan' 'Makati' 'Prabumulih' 'Dubai'\n",
            " 'Klungkung' 'Minahasa' 'Belitung' 'Banjarbaru' 'Karangasem' 'Manokwari'\n",
            " 'Batu' 'Tanah Bumbu' 'Kulon Progo' 'Bengkayang' 'Ende' 'Barito Utara'\n",
            " 'Kotabaru' 'Sekadau' 'Kubu Raya' 'Abu Dhabi' 'Port Moresby' 'Merauke'\n",
            " 'Sanggau' 'Bima' 'Jalan Sri Hartamas' 'Maluku' 'Barito Timur' 'Toraja'\n",
            " 'Padang Sidempuan' 'Balangan' 'Malinau' 'Tapanuli' 'Asahan Kisaran'\n",
            " 'Sunway City' 'Pangandaran' 'Mempawah' 'Singkawang' 'Bitung' 'Melaka'\n",
            " 'Poso' 'Orchard' 'Petaling Jaya' 'Sibolga' 'Kuala Lumpur' 'Queenstown'\n",
            " 'Penang' 'Donggala' 'Buton' 'Johor' 'Kotamobagu' 'Ampang' 'Tapin'\n",
            " 'Banjar' 'Bintulu' 'Barito Kuala' 'Hong Kong' 'Tanah Laut'\n",
            " 'Tanjung Balai' 'Tampines' 'Penajam Paser Utara' 'Hulu Sungai Tengah'\n",
            " 'Bangkok' 'Sambas' 'Nias' 'Sampang' 'Paya Lebar' 'Melawi' 'Kapuas Hulu'\n",
            " 'Landak' 'Sembawang' 'Tomohon' 'Takengon' 'Johor Bahru' 'Senggigi'\n",
            " 'Hulu Sungai Utara' 'Shah Alam/Subang' 'Miri' 'Hulu Sungai Selatan'\n",
            " 'Sarawak' 'Manila City' 'Lamandau' 'Puchong' 'Bayan Lepas' 'Selangor'\n",
            " 'Rochor' 'Bentong' 'Yishun' 'Kayong Utara' 'Bukit Merah' 'Sukamara'\n",
            " 'Sabang' 'Kallang' 'Jurong East' 'Pulang Pisau' 'Ang Mo Kio' 'Gelugor'\n",
            " '2022-09-22T21:30:36Z' '2022-09-22T21:30:22Z' '2022-09-22T21:30:21Z'\n",
            " '2022-09-22T21:30:17Z' '2022-09-22T21:30:09Z' '2022-09-22T21:01:31Z'\n",
            " '2022-09-22T21:00:55Z' '2022-09-22T21:00:29Z' '2022-09-22T20:47:10Z'\n",
            " '2022-09-22T20:01:37Z' '2022-09-22T20:01:36Z' '2022-09-22T20:01:35Z'\n",
            " '2022-09-22T20:01:34Z' '2022-09-22T20:01:33Z' '2022-09-22T20:01:32Z'\n",
            " '2022-09-22T20:01:31Z' '2022-09-22T20:01:30Z' '2022-09-22T20:01:29Z'\n",
            " '2022-09-22T20:01:28Z' '2022-09-22T20:01:27Z' '2022-09-22T20:01:26Z'\n",
            " '2022-09-22T20:01:25Z' '2022-09-22T20:01:24Z' '2022-09-22T20:01:23Z'\n",
            " '2022-09-22T20:01:22Z' '2022-09-22T20:01:21Z' '2022-09-22T20:01:20Z'\n",
            " '2022-09-22T20:01:19Z' '2022-09-22T20:01:18Z' '2022-09-22T20:01:17Z'\n",
            " '2022-09-22T20:01:16Z' '2022-09-22T20:01:15Z' '2022-09-22T20:01:14Z'\n",
            " '2022-09-22T20:01:13Z' '2022-09-22T20:01:12Z' '2022-09-22T20:01:11Z'\n",
            " '2022-09-22T20:01:10Z' '2022-09-22T20:01:09Z' '2022-09-22T20:01:08Z'\n",
            " '2022-09-22T20:01:07Z' '2022-09-22T20:01:06Z' '2022-09-22T20:01:05Z'\n",
            " '2022-09-22T20:01:04Z' '2022-09-22T20:01:03Z' '2022-09-22T20:01:02Z'\n",
            " '2022-09-22T20:01:01Z' '2022-09-22T20:01:00Z' '2022-09-22T20:00:59Z'\n",
            " '2022-09-22T20:00:58Z' '2022-09-22T20:00:57Z' '2022-09-22T20:00:56Z'\n",
            " '2022-09-22T20:00:55Z' '2022-09-22T20:00:54Z' '2022-09-22T20:00:53Z'\n",
            " '2022-09-22T20:00:52Z' '2022-09-22T20:00:51Z' '2022-09-22T20:00:50Z'\n",
            " '2022-09-22T20:00:49Z' '2022-09-22T20:00:48Z' '2022-09-22T20:00:47Z'\n",
            " '2022-09-22T20:00:46Z' '2022-09-22T20:00:45Z' '2022-09-22T20:00:44Z'\n",
            " '2022-09-22T20:00:43Z' '2022-09-22T20:00:42Z' '2022-09-22T20:00:41Z'\n",
            " '2022-09-22T20:00:40Z' '2022-09-22T20:00:39Z' '2022-09-22T20:00:38Z'\n",
            " '2022-09-22T20:00:37Z' '2022-09-22T20:00:36Z' '2022-09-22T20:00:35Z'\n",
            " '2022-09-22T20:00:34Z' '2022-09-22T20:00:33Z' '2022-09-22T20:00:32Z'\n",
            " '2022-09-22T20:00:31Z' '2022-09-22T19:00:59Z' '2022-09-22T18:30:53Z'\n",
            " '2022-09-22T18:30:41Z' '2022-09-22T18:28:07Z' '2022-09-22T18:27:55Z'\n",
            " '2022-09-22T18:27:42Z' '2022-09-22T18:26:17Z' '2022-09-22T18:20:40Z'\n",
            " '2022-09-22T18:20:28Z' '2022-09-22T18:20:15Z' '2022-09-22T18:19:51Z'\n",
            " '2022-09-22T18:19:26Z' '2022-09-22T18:19:03Z' '2022-09-22T18:18:50Z'\n",
            " '2022-09-22T18:18:38Z' '2022-09-22T18:18:27Z' '2022-09-22T18:18:14Z'\n",
            " '2022-09-22T18:18:01Z' '2022-09-22T18:17:50Z' '2022-09-22T18:17:25Z'\n",
            " '2022-09-22T18:17:00Z' '2022-09-22T18:16:51Z' '2022-09-22T18:16:50Z'\n",
            " '2022-09-22T18:16:22Z' '2022-09-22T18:16:10Z' '2022-09-22T18:15:58Z'\n",
            " '2022-09-22T18:15:45Z' '2022-09-22T18:15:33Z' '2022-09-22T18:15:30Z'\n",
            " '2022-09-22T18:15:10Z' '2022-09-22T18:14:57Z' '2022-09-22T18:14:45Z'\n",
            " '2022-09-22T18:14:32Z' '2022-09-22T18:14:20Z' '2022-09-22T18:13:55Z'\n",
            " '2022-09-22T18:13:41Z' '2022-09-22T18:13:30Z' '2022-09-22T18:13:16Z'\n",
            " '2022-09-22T18:13:04Z' '2022-09-22T18:12:53Z' '2022-09-22T18:12:42Z'\n",
            " '2022-09-22T18:12:29Z' '2022-09-22T18:12:16Z' '2022-09-22T18:12:04Z'\n",
            " '2022-09-22T18:11:52Z' '2022-09-22T18:11:40Z' '2022-09-22T18:11:27Z'\n",
            " '2022-09-22T18:11:15Z' '2022-09-22T18:11:04Z' '2022-09-22T18:10:52Z'\n",
            " '2022-09-22T18:10:42Z' '2022-09-22T18:10:28Z' '2022-09-22T18:10:15Z'\n",
            " '2022-09-22T18:10:04Z' '2022-09-22T18:09:51Z' '2022-09-22T18:09:39Z'\n",
            " '2022-09-22T18:09:38Z' '2022-09-22T18:09:27Z' '2022-09-22T18:09:15Z'\n",
            " '2022-09-22T18:09:02Z' '2022-09-22T18:08:51Z' '2022-09-22T18:08:40Z'\n",
            " '2022-09-22T18:08:26Z' '2022-09-22T18:08:15Z' '2022-09-22T18:08:02Z'\n",
            " '2022-09-22T18:07:50Z' '2022-09-22T18:07:37Z' '2022-09-22T18:07:26Z'\n",
            " '2022-09-22T18:07:14Z' '2022-09-22T18:07:01Z' '2022-09-22T18:06:50Z'\n",
            " '2022-09-22T18:06:37Z' '2022-09-22T18:06:25Z' '2022-09-22T18:06:13Z'\n",
            " '2022-09-22T18:06:00Z' '2022-09-22T18:05:49Z' '2022-09-22T18:05:37Z'\n",
            " '2022-09-22T18:05:25Z' '2022-09-22T18:05:12Z' '2022-09-22T18:05:00Z'\n",
            " '2022-09-22T18:04:48Z' '2022-09-22T18:04:36Z' '2022-09-22T18:04:23Z'\n",
            " '2022-09-22T18:04:12Z' '2022-09-22T18:04:00Z' '2022-09-22T18:03:48Z'\n",
            " '2022-09-22T18:03:36Z' '2022-09-22T18:03:23Z' '2022-09-22T18:03:12Z'\n",
            " '2022-09-22T18:02:59Z' '2022-09-22T18:02:35Z' '2022-09-22T18:02:22Z'\n",
            " '2022-09-22T18:01:59Z' '2022-09-22T18:01:47Z' '2022-09-22T18:01:36Z'\n",
            " '2022-09-22T18:01:25Z' '2022-09-22T18:01:01Z' '2022-09-22T18:00:50Z'\n",
            " '2022-09-22T18:00:38Z' '2022-09-22T18:00:26Z' '2022-09-22T18:00:16Z'\n",
            " '2022-09-22T18:00:04Z' '2022-09-22T17:59:53Z' '2022-09-22T17:59:41Z'\n",
            " '2022-09-22T17:59:29Z' '2022-09-22T17:59:18Z' '2022-09-22T17:59:06Z'\n",
            " '2022-09-22T17:58:55Z' '2022-09-22T17:58:43Z' '2022-09-22T17:58:31Z'\n",
            " '2022-09-22T17:58:20Z' '2022-09-22T17:58:07Z' '2022-09-22T17:57:57Z'\n",
            " '2022-09-22T17:57:45Z' '2022-09-22T17:57:33Z' '2022-09-22T17:57:22Z'\n",
            " '2022-09-22T17:57:10Z' '2022-09-22T17:56:59Z' '2022-09-22T17:56:47Z'\n",
            " '2022-09-22T17:56:26Z' '2022-09-22T17:56:15Z' '2022-09-22T17:55:52Z'\n",
            " '2022-09-22T17:55:41Z' '2022-09-22T17:55:31Z' '2022-09-22T17:55:19Z'\n",
            " '2022-09-22T17:55:07Z' '2022-09-22T17:54:55Z' '2022-09-22T17:54:43Z'\n",
            " '2022-09-22T17:54:33Z' '2022-09-22T17:54:20Z' '2022-09-22T17:54:08Z'\n",
            " '2022-09-22T17:53:57Z' '2022-09-22T17:53:46Z' '2022-09-22T17:53:34Z'\n",
            " '2022-09-22T17:53:23Z' '2022-09-22T17:53:11Z' '2022-09-22T17:52:59Z'\n",
            " '2022-09-22T17:52:47Z' '2022-09-22T17:52:34Z' '2022-09-22T17:52:22Z'\n",
            " '2022-09-22T17:52:10Z' '2022-09-22T17:51:59Z' '2022-09-22T17:51:47Z'\n",
            " '2022-09-22T17:51:34Z' '2022-09-22T17:51:22Z' '2022-09-22T17:51:11Z'\n",
            " '2022-09-22T17:50:59Z' '2022-09-22T17:50:34Z' '2022-09-22T17:50:23Z'\n",
            " '2022-09-22T17:50:10Z' '2022-09-22T17:49:58Z' '2022-09-22T17:49:45Z'\n",
            " '2022-09-22T17:49:33Z' '2022-09-22T17:49:20Z' '2022-09-22T17:49:10Z'\n",
            " '2022-09-22T17:48:57Z' '2022-09-22T17:48:45Z' '2022-09-22T17:48:33Z'\n",
            " '2022-09-22T17:48:20Z' '2022-09-22T17:48:09Z' '2022-09-22T17:47:56Z'\n",
            " '2022-09-22T17:47:43Z' '2022-09-22T17:47:31Z' '2022-09-22T17:47:30Z'\n",
            " '2022-09-22T17:47:18Z' '2022-09-22T17:47:07Z' '2022-09-22T17:46:53Z'\n",
            " '2022-09-22T17:46:41Z' '2022-09-22T17:46:29Z' '2022-09-22T17:46:15Z'\n",
            " '2022-09-22T17:46:03Z' '2022-09-22T17:45:51Z' '2022-09-22T17:45:38Z'\n",
            " '2022-09-22T17:45:26Z' '2022-09-22T17:45:14Z' '2022-09-22T17:45:00Z'\n",
            " '2022-09-22T17:44:47Z' '2022-09-22T17:44:35Z' '2022-09-22T17:44:23Z'\n",
            " '2022-09-22T17:44:10Z' '2022-09-22T17:43:58Z' '2022-09-22T17:43:45Z'\n",
            " '2022-09-22T17:43:33Z' '2022-09-22T17:43:20Z' '2022-09-22T17:43:07Z'\n",
            " '2022-09-22T17:42:54Z' '2022-09-22T17:42:42Z' '2022-09-22T17:42:29Z'\n",
            " '2022-09-22T17:42:17Z' '2022-09-22T17:42:04Z' '2022-09-22T17:41:50Z'\n",
            " '2022-09-22T17:41:37Z' '2022-09-22T17:41:23Z' '2022-09-22T17:41:10Z'\n",
            " '2022-09-22T17:40:58Z' '2022-09-22T17:40:33Z' '2022-09-22T17:40:06Z'\n",
            " '2022-09-22T17:39:53Z' '2022-09-22T17:39:41Z' '2022-09-22T17:39:27Z'\n",
            " '2022-09-22T17:39:15Z' '2022-09-22T17:39:01Z' '2022-09-22T17:38:50Z'\n",
            " '2022-09-22T17:38:36Z' '2022-09-22T17:38:22Z' '2022-09-22T17:38:08Z'\n",
            " '2022-09-22T17:37:56Z' '2022-09-22T17:37:43Z' '2022-09-22T17:37:29Z'\n",
            " '2022-09-22T17:37:16Z' '2022-09-22T17:37:03Z' '2022-09-22T17:36:51Z'\n",
            " '2022-09-22T17:36:38Z' '2022-09-22T17:36:25Z' '2022-09-22T17:36:12Z'\n",
            " '2022-09-22T17:35:59Z' '2022-09-22T17:35:47Z' '2022-09-22T17:35:34Z'\n",
            " '2022-09-22T17:35:21Z' '2022-09-22T17:35:07Z' '2022-09-22T17:34:54Z'\n",
            " '2022-09-22T17:34:53Z' '2022-09-22T17:34:41Z' '2022-09-22T17:34:28Z'\n",
            " '2022-09-22T17:34:16Z' '2022-09-22T17:34:15Z' '2022-09-22T17:34:02Z'\n",
            " '2022-09-22T17:33:50Z' '2022-09-22T17:33:37Z' '2022-09-22T17:33:24Z'\n",
            " '2022-09-22T17:33:11Z' '2022-09-22T17:32:58Z' '2022-09-22T17:32:46Z'\n",
            " '2022-09-22T17:32:33Z' '2022-09-22T17:32:21Z' '2022-09-22T17:32:08Z'\n",
            " '2022-09-22T17:31:56Z' '2022-09-22T17:31:43Z' '2022-09-22T17:31:31Z'\n",
            " '2022-09-22T17:31:18Z' '2022-09-22T17:31:07Z' '2022-09-22T17:30:54Z'\n",
            " '2022-09-22T17:30:42Z' '2022-09-22T17:30:29Z' '2022-09-22T17:30:15Z'\n",
            " '2022-09-22T17:30:02Z' '2022-09-22T17:29:37Z' '2022-09-22T17:29:24Z'\n",
            " '2022-09-22T17:29:12Z' '2022-09-22T17:28:59Z' '2022-09-22T17:28:46Z'\n",
            " '2022-09-22T17:28:33Z' '2022-09-22T17:28:21Z' '2022-09-22T17:28:08Z'\n",
            " '2022-09-22T17:27:42Z' '2022-09-22T17:27:29Z' '2022-09-22T17:27:16Z'\n",
            " '2022-09-22T17:27:04Z' '2022-09-22T17:26:52Z' '2022-09-22T17:26:40Z'\n",
            " '2022-09-22T17:26:28Z' '2022-09-22T17:26:15Z' '2022-09-22T17:26:02Z'\n",
            " '2022-09-22T17:25:50Z' '2022-09-22T17:25:38Z' '2022-09-22T17:25:14Z'\n",
            " '2022-09-22T17:24:49Z' '2022-09-22T17:24:36Z' '2022-09-22T17:24:23Z'\n",
            " '2022-09-22T17:24:11Z' '2022-09-22T17:23:58Z' '2022-09-22T17:23:34Z'\n",
            " '2022-09-22T17:23:09Z' '2022-09-22T17:22:08Z' '2022-09-22T17:21:55Z'\n",
            " '2022-09-22T17:21:31Z' '2022-09-22T17:21:06Z' '2022-09-22T17:20:55Z'\n",
            " '2022-09-22T17:20:42Z' '2022-09-22T17:20:30Z' '2022-09-22T17:20:17Z'\n",
            " '2022-09-22T17:19:53Z' '2022-09-22T17:19:17Z' '2022-09-22T17:18:28Z'\n",
            " '2022-09-22T17:17:40Z' '2022-09-22T17:15:12Z' '2022-09-22T17:14:22Z'\n",
            " '2022-09-22T17:13:57Z' '2022-09-22T17:13:44Z' '2022-09-22T17:13:33Z'\n",
            " '2022-09-22T17:12:44Z' '2022-09-22T17:12:32Z' '2022-09-22T17:12:20Z'\n",
            " '2022-09-22T17:12:07Z' '2022-09-22T17:11:55Z' '2022-09-22T17:11:29Z'\n",
            " '2022-09-22T17:11:17Z' '2022-09-22T17:11:06Z' '2022-09-22T17:10:53Z'\n",
            " '2022-09-22T17:10:41Z' '2022-09-22T17:10:29Z' '2022-09-22T17:10:03Z'\n",
            " '2022-09-22T17:09:50Z' '2022-09-22T17:09:38Z' '2022-09-22T17:09:13Z'\n",
            " '2022-09-22T17:09:00Z' '2022-09-22T17:08:48Z' '2022-09-22T17:08:36Z'\n",
            " '2022-09-22T17:08:10Z' '2022-09-22T17:08:00Z' '2022-09-22T17:07:47Z'\n",
            " '2022-09-22T17:07:35Z' '2022-09-22T17:07:22Z' '2022-09-22T17:07:10Z'\n",
            " '2022-09-22T17:06:59Z' '2022-09-22T17:06:46Z' '2022-09-22T17:06:34Z'\n",
            " '2022-09-22T17:06:21Z' '2022-09-22T17:06:09Z' '2022-09-22T17:05:44Z'\n",
            " '2022-09-22T17:05:33Z' '2022-09-22T17:05:32Z' '2022-09-22T17:05:20Z'\n",
            " '2022-09-22T17:05:08Z' '2022-09-22T17:04:17Z' '2022-09-22T17:04:05Z'\n",
            " '2022-09-22T17:04:04Z' '2022-09-22T17:03:40Z' '2022-09-22T17:03:28Z'\n",
            " '2022-09-22T17:03:15Z' '2022-09-22T17:03:02Z' '2022-09-22T17:02:50Z'\n",
            " '2022-09-22T17:02:26Z' '2022-09-22T17:02:14Z' '2022-09-22T17:02:01Z'\n",
            " '2022-09-22T17:01:49Z' '2022-09-22T17:01:36Z' '2022-09-22T17:01:24Z'\n",
            " '2022-09-22T17:01:11Z' '2022-09-22T17:00:58Z' '2022-09-22T17:00:46Z'\n",
            " '2022-09-22T17:00:34Z' '2022-09-22T17:00:22Z' '2022-09-22T17:00:10Z'\n",
            " '2022-09-22T17:00:00Z' '2022-09-22T16:59:58Z' '2022-09-22T16:59:45Z'\n",
            " '2022-09-22T16:59:32Z' '2022-09-22T16:59:21Z' '2022-09-22T16:59:09Z'\n",
            " '2022-09-22T16:58:56Z' '2022-09-22T16:58:45Z' '2022-09-22T16:58:33Z'\n",
            " '2022-09-22T16:58:21Z' '2022-09-22T16:58:10Z' '2022-09-22T16:57:56Z'\n",
            " '2022-09-22T16:57:46Z' '2022-09-22T16:57:33Z' '2022-09-22T16:57:21Z'\n",
            " '2022-09-22T16:57:20Z' '2022-09-22T16:57:08Z' '2022-09-22T16:56:56Z'\n",
            " '2022-09-22T16:56:44Z' '2022-09-22T16:56:31Z' '2022-09-22T16:56:20Z'\n",
            " '2022-09-22T16:56:07Z' '2022-09-22T16:55:54Z' '2022-09-22T16:55:53Z'\n",
            " '2022-09-22T16:55:41Z' '2022-09-22T16:55:30Z' '2022-09-22T16:55:16Z'\n",
            " '2022-09-22T16:55:05Z' '2022-09-22T16:54:53Z' '2022-09-22T16:54:41Z'\n",
            " '2022-09-22T16:54:29Z' '2022-09-22T16:54:17Z' '2022-09-22T16:54:05Z'\n",
            " '2022-09-22T16:53:53Z' '2022-09-22T16:53:40Z' '2022-09-22T16:53:29Z'\n",
            " '2022-09-22T16:53:28Z' '2022-09-22T16:53:16Z' '2022-09-22T16:53:04Z'\n",
            " '2022-09-22T16:53:03Z' '2022-09-22T16:52:52Z' '2022-09-22T16:52:39Z'\n",
            " '2022-09-22T16:52:28Z' '2022-09-22T16:52:15Z' '2022-09-22T16:52:03Z'\n",
            " '2022-09-22T16:52:02Z' '2022-09-22T16:51:51Z' '2022-09-22T16:51:38Z'\n",
            " '2022-09-22T16:51:27Z' '2022-09-22T16:51:14Z' '2022-09-22T16:51:02Z'\n",
            " '2022-09-22T16:50:49Z' '2022-09-22T16:50:25Z' '2022-09-22T16:50:14Z'\n",
            " '2022-09-22T16:50:01Z' '2022-09-22T16:49:48Z' '2022-09-22T16:49:37Z'\n",
            " '2022-09-22T16:49:25Z' '2022-09-22T16:49:13Z' '2022-09-22T16:49:00Z'\n",
            " '2022-09-22T16:48:47Z' '2022-09-22T16:48:36Z' '2022-09-22T16:48:24Z'\n",
            " '2022-09-22T16:48:12Z' '2022-09-22T16:47:59Z' '2022-09-22T16:47:47Z'\n",
            " '2022-09-22T16:47:34Z' '2022-09-22T16:47:23Z' '2022-09-22T16:46:59Z'\n",
            " '2022-09-22T16:46:46Z' '2022-09-22T16:46:34Z' '2022-09-22T16:46:23Z'\n",
            " '2022-09-22T16:46:00Z' '2022-09-22T16:45:36Z' '2022-09-22T16:45:23Z'\n",
            " '2022-09-22T16:45:12Z' '2022-09-22T16:45:01Z' '2022-09-22T16:45:00Z'\n",
            " '2022-09-22T16:44:48Z' '2022-09-22T16:44:38Z' '2022-09-22T16:44:26Z'\n",
            " '2022-09-22T16:44:14Z' '2022-09-22T16:44:03Z' '2022-09-22T16:43:51Z'\n",
            " '2022-09-22T16:43:40Z' '2022-09-22T16:43:27Z' '2022-09-22T16:43:16Z'\n",
            " '2022-09-22T16:43:04Z' '2022-09-22T16:42:52Z' '2022-09-22T16:42:40Z'\n",
            " '2022-09-22T16:42:29Z' '2022-09-22T16:42:28Z' '2022-09-22T16:42:16Z'\n",
            " '2022-09-22T16:42:05Z' '2022-09-22T16:41:53Z' '2022-09-22T16:41:43Z'\n",
            " '2022-09-22T16:41:42Z' '2022-09-22T16:41:31Z' '2022-09-22T16:41:21Z'\n",
            " '2022-09-22T16:41:10Z' '2022-09-22T16:40:59Z' '2022-09-22T16:40:48Z'\n",
            " '2022-09-22T16:40:15Z' '2022-09-22T16:40:03Z' '2022-09-22T16:39:53Z'\n",
            " '2022-09-22T16:39:40Z' '2022-09-22T16:39:30Z' '2022-09-22T16:39:19Z'\n",
            " '2022-09-22T16:39:09Z' '2022-09-22T16:38:58Z' '2022-09-22T16:38:57Z'\n",
            " '2022-09-22T16:38:47Z' '2022-09-22T16:38:35Z' '2022-09-22T16:38:12Z'\n",
            " '2022-09-22T16:38:02Z' '2022-09-22T16:37:51Z' '2022-09-22T16:37:40Z'\n",
            " '2022-09-22T16:37:30Z' '2022-09-22T16:37:19Z' '2022-09-22T16:37:07Z'\n",
            " '2022-09-22T16:36:55Z' '2022-09-22T16:36:44Z' '2022-09-22T16:36:32Z'\n",
            " '2022-09-22T16:36:21Z' '2022-09-22T16:36:10Z' '2022-09-22T16:35:58Z'\n",
            " '2022-09-22T16:35:47Z' '2022-09-22T16:35:35Z' '2022-09-22T16:35:24Z'\n",
            " '2022-09-22T16:35:12Z' '2022-09-22T16:35:00Z' '2022-09-22T16:34:48Z'\n",
            " '2022-09-22T16:34:37Z' '2022-09-22T16:34:26Z' '2022-09-22T16:34:15Z'\n",
            " '2022-09-22T16:34:04Z' '2022-09-22T16:33:52Z' '2022-09-22T16:33:39Z'\n",
            " '2022-09-22T16:33:29Z' '2022-09-22T16:33:28Z' '2022-09-22T16:33:16Z'\n",
            " '2022-09-22T16:33:03Z' '2022-09-22T16:32:52Z' '2022-09-22T16:32:40Z'\n",
            " '2022-09-22T16:32:29Z' '2022-09-22T16:32:17Z' '2022-09-22T16:32:05Z'\n",
            " '2022-09-22T16:31:53Z' '2022-09-22T16:31:41Z' '2022-09-22T16:31:29Z'\n",
            " '2022-09-22T16:31:28Z' '2022-09-22T16:31:17Z' '2022-09-22T16:31:04Z'\n",
            " '2022-09-22T16:30:52Z' '2022-09-22T16:30:40Z' '2022-09-22T16:30:27Z'\n",
            " '2022-09-22T16:30:15Z' '2022-09-22T16:30:03Z' '2022-09-22T16:29:50Z'\n",
            " '2022-09-22T16:29:38Z' '2022-09-22T16:29:25Z' '2022-09-22T16:29:12Z'\n",
            " '2022-09-22T16:29:00Z' '2022-09-22T16:28:47Z' '2022-09-22T16:28:35Z'\n",
            " '2022-09-22T16:28:23Z' '2022-09-22T16:28:11Z' '2022-09-22T16:27:58Z'\n",
            " '2022-09-22T16:27:46Z' '2022-09-22T16:27:34Z' '2022-09-22T16:27:21Z'\n",
            " '2022-09-22T16:27:09Z' '2022-09-22T16:26:57Z' '2022-09-22T16:26:44Z'\n",
            " '2022-09-22T16:26:32Z' '2022-09-22T16:26:19Z' '2022-09-22T16:26:07Z'\n",
            " '2022-09-22T16:25:54Z' '2022-09-22T16:25:42Z' '2022-09-22T16:25:29Z'\n",
            " '2022-09-22T16:25:17Z' '2022-09-22T16:25:04Z' '2022-09-22T16:24:52Z'\n",
            " '2022-09-22T16:24:39Z' '2022-09-22T16:24:26Z' '2022-09-22T16:24:13Z'\n",
            " '2022-09-22T16:24:01Z' '2022-09-22T16:23:49Z' '2022-09-22T16:23:36Z'\n",
            " '2022-09-22T16:23:24Z' '2022-09-22T16:23:10Z' '2022-09-22T16:22:58Z'\n",
            " '2022-09-22T16:22:45Z' '2022-09-22T16:22:32Z' '2022-09-22T16:22:31Z'\n",
            " '2022-09-22T16:22:18Z' '2022-09-22T16:22:04Z' '2022-09-22T16:21:51Z'\n",
            " '2022-09-22T16:21:38Z' '2022-09-22T16:21:24Z' '2022-09-22T16:21:12Z'\n",
            " '2022-09-22T16:21:11Z' '2022-09-22T16:20:58Z' '2022-09-22T16:20:45Z'\n",
            " '2022-09-22T16:20:31Z' '2022-09-22T16:20:16Z' '2022-09-22T16:20:02Z'\n",
            " '2022-09-22T16:19:48Z' '2022-09-22T16:19:35Z' '2022-09-22T16:19:22Z'\n",
            " '2022-09-22T16:19:07Z' '2022-09-22T16:18:54Z' '2022-09-22T16:18:40Z'\n",
            " '2022-09-22T16:18:26Z' '2022-09-22T16:17:59Z' '2022-09-22T16:17:32Z'\n",
            " '2022-09-22T16:17:16Z' '2022-09-22T16:17:04Z' '2022-09-22T16:16:50Z'\n",
            " '2022-09-22T16:16:37Z' '2022-09-22T16:16:23Z' '2022-09-22T16:16:09Z'\n",
            " '2022-09-22T16:15:55Z' '2022-09-22T16:15:41Z' '2022-09-22T16:15:26Z'\n",
            " '2022-09-22T16:15:12Z' '2022-09-22T16:14:58Z' '2022-09-22T16:14:45Z'\n",
            " '2022-09-22T16:14:44Z' '2022-09-22T16:14:16Z' '2022-09-22T16:14:02Z'\n",
            " '2022-09-22T16:13:48Z' '2022-09-22T16:13:34Z' '2022-09-22T16:13:19Z'\n",
            " '2022-09-22T16:13:04Z' '2022-09-22T16:12:50Z' '2022-09-22T16:12:36Z'\n",
            " '2022-09-22T16:12:21Z' '2022-09-22T16:12:07Z' '2022-09-22T16:11:52Z'\n",
            " '2022-09-22T16:11:38Z' '2022-09-22T16:11:23Z' '2022-09-22T16:11:08Z'\n",
            " '2022-09-22T16:10:53Z' '2022-09-22T16:10:38Z' '2022-09-22T16:10:24Z'\n",
            " '2022-09-22T16:10:09Z' '2022-09-22T16:09:54Z' '2022-09-22T16:09:42Z'\n",
            " '2022-09-22T16:09:26Z' '2022-09-22T16:09:14Z' '2022-09-22T16:08:57Z'\n",
            " '2022-09-22T16:08:44Z' '2022-09-22T16:08:29Z' '2022-09-22T16:08:13Z'\n",
            " '2022-09-22T16:07:59Z' '2022-09-22T16:07:45Z' '2022-09-22T16:07:32Z'\n",
            " '2022-09-22T16:07:31Z' '2022-09-22T16:07:03Z' '2022-09-22T16:06:48Z'\n",
            " '2022-09-22T16:06:34Z' '2022-09-22T16:06:05Z' '2022-09-22T16:05:51Z'\n",
            " '2022-09-22T16:05:36Z' '2022-09-22T16:05:22Z' '2022-09-22T16:05:07Z'\n",
            " '2022-09-22T16:04:53Z' '2022-09-22T16:04:38Z' '2022-09-22T16:04:23Z'\n",
            " '2022-09-22T16:04:09Z' '2022-09-22T16:03:59Z' '2022-09-22T16:03:55Z'\n",
            " '2022-09-22T16:03:42Z' '2022-09-22T16:03:27Z' '2022-09-22T16:03:26Z'\n",
            " '2022-09-22T16:03:13Z' '2022-09-22T16:02:59Z' '2022-09-22T16:02:45Z'\n",
            " '2022-09-22T16:02:31Z' '2022-09-22T16:02:17Z' '2022-09-22T16:02:04Z'\n",
            " '2022-09-22T16:01:50Z' '2022-09-22T16:01:49Z' '2022-09-22T16:01:36Z'\n",
            " '2022-09-22T16:01:22Z' '2022-09-22T16:01:09Z' '2022-09-22T16:00:56Z'\n",
            " '2022-09-22T16:00:43Z' '2022-09-22T16:00:29Z' '2022-09-22T16:00:15Z'\n",
            " '2022-09-22T16:00:12Z' '2022-09-22T16:00:03Z' '2022-09-22T15:59:48Z'\n",
            " '2022-09-22T15:59:35Z' '2022-09-22T15:59:21Z' '2022-09-22T15:59:07Z'\n",
            " '2022-09-22T15:58:54Z' '2022-09-22T15:58:40Z' '2022-09-22T15:58:26Z'\n",
            " '2022-09-22T15:58:14Z' '2022-09-22T15:58:01Z' '2022-09-22T15:57:33Z'\n",
            " '2022-09-22T15:57:07Z' '2022-09-22T15:56:54Z' '2022-09-22T15:56:41Z'\n",
            " '2022-09-22T15:56:28Z' '2022-09-22T15:56:15Z' '2022-09-22T15:56:03Z'\n",
            " '2022-09-22T15:55:49Z' '2022-09-22T15:55:35Z' '2022-09-22T15:55:23Z'\n",
            " '2022-09-22T15:55:09Z' '2022-09-22T15:54:43Z' '2022-09-22T15:54:30Z'\n",
            " '2022-09-22T15:54:17Z' '2022-09-22T15:54:03Z' '2022-09-22T15:53:50Z'\n",
            " '2022-09-22T15:53:37Z' '2022-09-22T15:53:23Z' '2022-09-22T15:53:09Z'\n",
            " '2022-09-22T15:52:57Z' '2022-09-22T15:52:30Z' '2022-09-22T15:52:29Z'\n",
            " '2022-09-22T15:52:16Z' '2022-09-22T15:52:02Z' '2022-09-22T15:51:37Z'\n",
            " '2022-09-22T15:51:36Z' '2022-09-22T15:51:22Z' '2022-09-22T15:51:08Z'\n",
            " '2022-09-22T15:50:55Z' '2022-09-22T15:50:41Z' '2022-09-22T15:50:14Z'\n",
            " '2022-09-22T15:49:47Z' '2022-09-22T15:49:34Z' '2022-09-22T15:49:19Z'\n",
            " '2022-09-22T15:49:06Z' '2022-09-22T15:48:51Z']\n"
          ]
        }
      ]
    },
    {
      "cell_type": "code",
      "source": [
        "# Drop baris 'locations' yang isinya mirip timestamp ISO 8601\n",
        "data_exploded = data_exploded[~data_exploded['locations'].str.contains(r'^\\d{4}-\\d{2}-\\d{2}T', na=False)]\n",
        "\n",
        "# Reset index biar rapi\n",
        "data_exploded = data_exploded.reset_index(drop=True)\n",
        "\n",
        "print(data_exploded['locations'].unique()[:1000])"
      ],
      "metadata": {
        "colab": {
          "base_uri": "https://localhost:8080/"
        },
        "id": "2_cw8mF1Htzi",
        "outputId": "ea7b2879-afd3-4d9a-d02a-c552cc607f2e"
      },
      "execution_count": null,
      "outputs": [
        {
          "output_type": "stream",
          "name": "stdout",
          "text": [
            "['Jakarta' 'Tangerang' 'Bandung' 'Surabaya' 'Bekasi' 'Semarang' 'Riau'\n",
            " 'Yogyakarta' 'Batam' 'Cikarang' 'Seminyak' 'Cilegon' 'Kuta' 'Makassar'\n",
            " 'Karawang' 'Bogor' 'Depok' 'Banten' 'Jepara' 'Kota Banda Aceh' 'Jember'\n",
            " 'Pekanbaru' 'Medan' 'Pontianak' 'Manado' 'Metro Manila' 'Tuban'\n",
            " 'Denpasar' 'Natuna Ranai' 'Samarinda' 'Purbalingga' 'Balikpapan'\n",
            " 'Jayapura' 'Banjarmasin' 'Badung' 'Kendari' 'Purwokerto' 'Tegal' 'Serang'\n",
            " 'Tasikmalaya' 'Surakarta' 'Maluku Utara' 'Cikupa' 'Demak' 'Binjai'\n",
            " 'Cilacap' 'Banyuwangi' 'Jambi' 'Salatiga' 'Lhokseumawe' 'Cirebon'\n",
            " 'Cianjur' 'Bintan' 'Palu' 'Malang' 'Sidoarjo' 'Kudus' 'Kupang'\n",
            " 'Kotawaringin Barat' 'Palembang' 'Sleman' 'Kotawaringin Timur'\n",
            " 'Kalimantan Timur' 'Cibinong' 'Kota Damansara' 'Gresik' 'Bandar Lampung'\n",
            " 'Mojokerto' 'Cileungsi' 'Bangka Belitung' 'Bantul' 'Mandaluyong'\n",
            " 'Bontang' 'Purwakarta' 'Gorontalo' 'Sintang' 'Paser' 'Brebes' 'Ungaran'\n",
            " 'Palangkaraya' 'Sukabumi' 'Ponorogo' 'Pekalongan' 'Kediri' 'Pare-Pare'\n",
            " 'Murung Raya' 'Meulaboh' 'Madiun' 'Kutai Kartanegara' 'Padang' 'Magelang'\n",
            " 'Nunukan' 'Kutai Timur' 'Pandeglang' 'Gunung Mas' 'Tabalong' 'Bengkulu'\n",
            " 'Kutai Barat' 'Phnom Penh' 'Pasuruan' 'Aceh' 'Klaten' 'Gianyar'\n",
            " 'Ketapang' 'Citeureup' 'Pemalang' 'Blitar' 'Lampung' 'Lombok' 'Bone'\n",
            " 'Ambon' 'Cimahi' 'Tanjung Pinang' 'Mataram' 'Timika' 'Sorong' 'Kapuas'\n",
            " 'Pangkal Pinang' 'Metro' 'Halmahera' 'Probolinggo' 'Purworejo' 'Bangka'\n",
            " 'Palopo' 'Rangkasbitung' 'Wonogiri' 'Makati City' 'Mamuju' 'Sumbawa'\n",
            " 'Dumai' 'Flores Timur Larantuka' 'Banjarnegara' 'Pematangsiantar'\n",
            " 'Madura' 'Gowa' 'Muara Enim' 'Bukittinggi' 'Bulungan' 'Tarakan' 'Ubud'\n",
            " 'Gunung Kidul' 'Ternate' 'Kepulauan Seribu' 'Seruyan' 'Maros'\n",
            " 'Kepulauan Riau' 'Barito Selatan' 'Makati' 'Prabumulih' 'Dubai'\n",
            " 'Klungkung' 'Minahasa' 'Belitung' 'Banjarbaru' 'Karangasem' 'Manokwari'\n",
            " 'Batu' 'Tanah Bumbu' 'Kulon Progo' 'Bengkayang' 'Ende' 'Barito Utara'\n",
            " 'Kotabaru' 'Sekadau' 'Kubu Raya' 'Abu Dhabi' 'Port Moresby' 'Merauke'\n",
            " 'Sanggau' 'Bima' 'Jalan Sri Hartamas' 'Maluku' 'Barito Timur' 'Toraja'\n",
            " 'Padang Sidempuan' 'Balangan' 'Malinau' 'Tapanuli' 'Asahan Kisaran'\n",
            " 'Sunway City' 'Pangandaran' 'Mempawah' 'Singkawang' 'Bitung' 'Melaka'\n",
            " 'Poso' 'Orchard' 'Petaling Jaya' 'Sibolga' 'Kuala Lumpur' 'Queenstown'\n",
            " 'Penang' 'Donggala' 'Buton' 'Johor' 'Kotamobagu' 'Ampang' 'Tapin'\n",
            " 'Banjar' 'Bintulu' 'Barito Kuala' 'Hong Kong' 'Tanah Laut'\n",
            " 'Tanjung Balai' 'Tampines' 'Penajam Paser Utara' 'Hulu Sungai Tengah'\n",
            " 'Bangkok' 'Sambas' 'Nias' 'Sampang' 'Paya Lebar' 'Melawi' 'Kapuas Hulu'\n",
            " 'Landak' 'Sembawang' 'Tomohon' 'Takengon' 'Johor Bahru' 'Senggigi'\n",
            " 'Hulu Sungai Utara' 'Shah Alam/Subang' 'Miri' 'Hulu Sungai Selatan'\n",
            " 'Sarawak' 'Manila City' 'Lamandau' 'Puchong' 'Bayan Lepas' 'Selangor'\n",
            " 'Rochor' 'Bentong' 'Yishun' 'Kayong Utara' 'Bukit Merah' 'Sukamara'\n",
            " 'Sabang' 'Kallang' 'Jurong East' 'Pulang Pisau' 'Ang Mo Kio' 'Gelugor']\n"
          ]
        }
      ]
    },
    {
      "cell_type": "code",
      "source": [
        "print(data_exploded['employment'].unique()[:10])"
      ],
      "metadata": {
        "colab": {
          "base_uri": "https://localhost:8080/"
        },
        "id": "KFBL4n_wIFOv",
        "outputId": "1ffef38e-64a6-4fa6-f3b2-238213d807bf"
      },
      "execution_count": null,
      "outputs": [
        {
          "output_type": "stream",
          "name": "stdout",
          "text": [
            "['full_time' 'contract' 'internship' 0 'part_time' 'temporary'\n",
            " 'full_time,contract' 'contract,temporary' 'full_time,part_time'\n",
            " 'part_time,contract']\n"
          ]
        }
      ]
    },
    {
      "cell_type": "code",
      "source": [
        "# pastikan kolom 'employment' string\n",
        "data_exploded['employment'] = data_exploded['employment'].astype(str).str.strip()\n",
        "\n",
        "# drop semua baris yang mengandung koma di kolom 'locations'\n",
        "data_exploded = data_exploded[~data_exploded['employment'].str.contains(\",\", regex=False)]\n",
        "\n",
        "print(data_exploded ['employment'].unique()[:20])\n",
        "print(\"Jumlah baris:\", data_exploded.shape[0])\n"
      ],
      "metadata": {
        "colab": {
          "base_uri": "https://localhost:8080/"
        },
        "id": "DLAGsiSJIHqu",
        "outputId": "2352e2a6-009e-4a67-f8f1-7bff0879e454"
      },
      "execution_count": null,
      "outputs": [
        {
          "output_type": "stream",
          "name": "stdout",
          "text": [
            "['full_time' 'contract' 'internship' '0' 'part_time' 'temporary']\n",
            "Jumlah baris: 506885\n"
          ]
        }
      ]
    },
    {
      "cell_type": "code",
      "source": [
        "drop_list = [\n",
        "    '0'\n",
        "]\n",
        "\n",
        "# Drop baris yang lokasi-nya ada di drop_list\n",
        "data_exploded = data_exploded[~data_exploded['employment'].isin(drop_list)]\n",
        "\n",
        "print(data_exploded['employment'].unique()[:10])\n"
      ],
      "metadata": {
        "colab": {
          "base_uri": "https://localhost:8080/"
        },
        "id": "nNI8tY1YIdoi",
        "outputId": "8fc44c41-a2c2-4d52-d615-2639454a73da"
      },
      "execution_count": null,
      "outputs": [
        {
          "output_type": "stream",
          "name": "stdout",
          "text": [
            "['full_time' 'contract' 'internship' 'part_time' 'temporary']\n"
          ]
        }
      ]
    },
    {
      "cell_type": "code",
      "source": [
        "print(data_exploded['categoriesName'].unique()[:10])"
      ],
      "metadata": {
        "colab": {
          "base_uri": "https://localhost:8080/"
        },
        "id": "V4vNYAEDJAps",
        "outputId": "c0013446-736d-4279-8289-dec8486f6e5d"
      },
      "execution_count": null,
      "outputs": [
        {
          "output_type": "stream",
          "name": "stdout",
          "text": [
            "['Sumber Daya Manusia/Personalia,Sumber Daya Manusia / HR'\n",
            " 'Komputer/Teknologi Informasi,IT-Perangkat Lunak'\n",
            " 'Pendidikan/Pelatihan,Pendidikan'\n",
            " 'Komputer/Teknologi Informasi,IT-Admin Jaringan/Sistem/Database'\n",
            " 'Penjualan / Pemasaran,Digital Marketing'\n",
            " 'Penjualan / Pemasaran,Pemasaran/Pengembangan Bisnis'\n",
            " 'Sumber Daya Manusia/Personalia,Sekretaris'\n",
            " 'Sumber Daya Manusia/Personalia,Staf / Administrasi umum'\n",
            " 'Manufaktur,Manufaktur' 'Seni/Media/Komunikasi,Seni / Desain Kreatif']\n"
          ]
        }
      ]
    },
    {
      "cell_type": "code",
      "source": [
        "print(data_exploded['jobTitle'].unique()[:10])"
      ],
      "metadata": {
        "colab": {
          "base_uri": "https://localhost:8080/"
        },
        "id": "x53A-YYSJQv_",
        "outputId": "4df5c497-e84a-4ebf-d320-7dd1e807399f"
      },
      "execution_count": null,
      "outputs": [
        {
          "output_type": "stream",
          "name": "stdout",
          "text": [
            "['Human Capital Business Partner'\n",
            " 'UX Mentor (Apple Developer Academy BINUS)'\n",
            " 'Lecturer Specialist - S2 Entrepreneurship (Binus Bandung)'\n",
            " 'Junior Network Administrator' 'Subject Teacher (ICT)'\n",
            " 'Software Developer' 'Subject Teacher (Music) BINUS SCHOOL Semarang'\n",
            " 'Subject Teacher (Physical Education)' 'Senior Researcher'\n",
            " 'Social Media & Content Creator']\n"
          ]
        }
      ]
    },
    {
      "cell_type": "code",
      "source": [
        "print(data_exploded['companyName'].unique()[:10])"
      ],
      "metadata": {
        "colab": {
          "base_uri": "https://localhost:8080/"
        },
        "id": "sHZbKsgwJZq5",
        "outputId": "97c9b7cb-2080-4798-ccd4-3354b874709e"
      },
      "execution_count": null,
      "outputs": [
        {
          "output_type": "stream",
          "name": "stdout",
          "text": [
            "['MODENA INDONESIA' 'Yayasan Bina Nusantara' 'GriyaBayar'\n",
            " 'PT Artha Jaya Adi Perkasa' 'PT Cito Putra Utama' 0\n",
            " 'PT Bhakti Idola Tama' 'Montessori Huas Asia'\n",
            " 'Dheeren Interior Furniture' 'PT Ako Media Asia']\n"
          ]
        }
      ]
    },
    {
      "cell_type": "code",
      "source": [
        "# Pastikan kolom postedAt jadi datetime\n",
        "data_exploded['postedAt'] = pd.to_datetime(data_exploded['postedAt'], errors='coerce')\n",
        "\n",
        "# Pisahkan tanggal & jam\n",
        "data_exploded['date'] = data_exploded['postedAt'].dt.date   # hanya tanggal\n",
        "data_exploded['time'] = data_exploded['postedAt'].dt.time   # hanya waktu\n",
        "\n",
        "print(data_exploded[['postedAt', 'date', 'time']].head())\n"
      ],
      "metadata": {
        "colab": {
          "base_uri": "https://localhost:8080/"
        },
        "id": "tktB6xEIQtdX",
        "outputId": "521841f1-02e5-4e63-a0ef-4bd38db56f07"
      },
      "execution_count": null,
      "outputs": [
        {
          "output_type": "stream",
          "name": "stdout",
          "text": [
            "             postedAt        date      time\n",
            "0 2021-12-12 17:26:32  2021-12-12  17:26:32\n",
            "1 2021-12-12 17:00:00  2021-12-12  17:00:00\n",
            "2 2021-12-12 17:00:00  2021-12-12  17:00:00\n",
            "3 2021-12-12 17:00:00  2021-12-12  17:00:00\n",
            "4 2021-12-12 17:00:00  2021-12-12  17:00:00\n"
          ]
        }
      ]
    },
    {
      "cell_type": "code",
      "source": [
        "# Hapus baris dengan companyName == \"0\"\n",
        "#data_exploded = data_exploded[data_exploded['companyName'] != \"0\"]\n",
        "\n",
        "# Cek apakah masih ada \"0\" di companyName\n",
        "#sisa = (data_exploded['companyName'] == \"0\").sum()\n",
        "\n",
        "#print(\"Jumlah data setelah hapus companyName=0:\", data_exploded.shape[0])\n",
        "#print(\"Jumlah companyName yang masih '0':\", sisa)\n"
      ],
      "metadata": {
        "colab": {
          "base_uri": "https://localhost:8080/"
        },
        "id": "0qqxnMLQ46hB",
        "outputId": "97257754-d8cc-43a2-e34e-d64809a7f5a6"
      },
      "execution_count": null,
      "outputs": [
        {
          "output_type": "stream",
          "name": "stdout",
          "text": [
            "Jumlah data setelah hapus companyName=0: 301350\n",
            "Jumlah companyName yang masih '0': 0\n"
          ]
        }
      ]
    },
    {
      "cell_type": "code",
      "source": [
        "print(data_exploded['companyName'].unique()[:20])  # cek 20 data unik pertama\n",
        "print(data_exploded['companyName'].dtype)          # cek tipe datanya\n"
      ],
      "metadata": {
        "colab": {
          "base_uri": "https://localhost:8080/"
        },
        "id": "nEryAEwD5onD",
        "outputId": "ba449081-f03b-4ac3-d275-9f532e7f97a5"
      },
      "execution_count": null,
      "outputs": [
        {
          "output_type": "stream",
          "name": "stdout",
          "text": [
            "['MODENA INDONESIA' 'Yayasan Bina Nusantara' 'GriyaBayar'\n",
            " 'PT Artha Jaya Adi Perkasa' 'PT Cito Putra Utama' 0\n",
            " 'PT Bhakti Idola Tama' 'Montessori Huas Asia'\n",
            " 'Dheeren Interior Furniture' 'PT Ako Media Asia' 'AL-HUSIN STORE'\n",
            " 'PT Petra Sejahtera Abadi' 'PT Go Online Destinations'\n",
            " 'PT. Bina Sinar Amity (BSA Logistics)' '#LI-SS1' 'Kitabisa.com'\n",
            " 'Dutch Lady Milk Industries' 'PT Solubis Sukses Gemilang'\n",
            " 'Friesland Campina' 'Deutsche Bank']\n",
            "object\n"
          ]
        }
      ]
    },
    {
      "cell_type": "code",
      "source": [
        "# Ubah jadi string dan buang spasi\n",
        "data_exploded['companyName'] = data_exploded['companyName'].astype(str).str.strip()\n",
        "\n",
        "# Hapus semua yang nilainya \"0\"\n",
        "data_exploded = data_exploded[data_exploded['companyName'] != \"0\"]\n",
        "\n",
        "# Cek lagi\n",
        "print(\"Masih ada 0? ->\", (data_exploded['companyName'] == \"0\").sum())\n"
      ],
      "metadata": {
        "colab": {
          "base_uri": "https://localhost:8080/"
        },
        "id": "24XfyDCn5yxF",
        "outputId": "3108ecb3-6411-4720-f5fe-56a236317fcd"
      },
      "execution_count": null,
      "outputs": [
        {
          "output_type": "stream",
          "name": "stdout",
          "text": [
            "Masih ada 0? -> 0\n"
          ]
        }
      ]
    },
    {
      "cell_type": "code",
      "source": [
        "# Loop semua kolom numerik\n",
        "for col in data_exploded.select_dtypes(include=['int64', 'float64']).columns:\n",
        "    q1 = data_exploded[col].quantile(0.25)\n",
        "    q3 = data_exploded[col].quantile(0.75)\n",
        "    iqr = q3 - q1\n",
        "    lower_bound = q1 - 1.5 * iqr\n",
        "    upper_bound = q3 + 1.5 * iqr\n",
        "\n",
        "    # Hitung jumlah outlier\n",
        "    outliers = ((data_exploded[col] < lower_bound) | (data_exploded[col] > upper_bound)).sum()\n",
        "\n",
        "    print(f\"Kolom: {col}\")\n",
        "    print(f\"  Q1 = {q1}\")\n",
        "    print(f\"  Q3 = {q3}\")\n",
        "    print(f\"  IQR = {iqr}\")\n",
        "    print(f\"  Batas bawah = {lower_bound}\")\n",
        "    print(f\"  Batas atas  = {upper_bound}\")\n",
        "    print(f\"  Jumlah outlier = {outliers}\\n\")\n"
      ],
      "metadata": {
        "colab": {
          "base_uri": "https://localhost:8080/"
        },
        "id": "Qs9mxyW3JoE7",
        "outputId": "008a17a1-b862-4086-c0b0-ec94d78760ec"
      },
      "execution_count": null,
      "outputs": [
        {
          "output_type": "stream",
          "name": "stdout",
          "text": [
            "Kolom: Unnamed: 0\n",
            "  Q1 = 106029.25\n",
            "  Q3 = 417502.25\n",
            "  IQR = 311473.0\n",
            "  Batas bawah = -361180.25\n",
            "  Batas atas  = 884711.75\n",
            "  Jumlah outlier = 0\n",
            "\n",
            "Kolom: salaryMin\n",
            "  Q1 = 0.0\n",
            "  Q3 = 2000000.0\n",
            "  IQR = 2000000.0\n",
            "  Batas bawah = -3000000.0\n",
            "  Batas atas  = 5000000.0\n",
            "  Jumlah outlier = 28588\n",
            "\n",
            "Kolom: salaryMax\n",
            "  Q1 = 0.0\n",
            "  Q3 = 3000000.0\n",
            "  IQR = 3000000.0\n",
            "  Batas bawah = -4500000.0\n",
            "  Batas atas  = 7500000.0\n",
            "  Jumlah outlier = 29801\n",
            "\n"
          ]
        }
      ]
    },
    {
      "cell_type": "code",
      "source": [
        "data_outlier = data_exploded.copy()\n",
        "\n",
        "for col in data_outlier.select_dtypes(include=['int64', 'float64']).columns:\n",
        "    q1 = data_outlier[col].quantile(0.25)\n",
        "    q3 = data_outlier[col].quantile(0.75)\n",
        "    iqr = q3 - q1\n",
        "    lower_bound = q1 - 1.5 * iqr\n",
        "    upper_bound = q3 + 1.5 * iqr\n",
        "\n",
        "    data_outlier = data_outlier[\n",
        "        (data_outlier[col] >= lower_bound) &\n",
        "        (data_outlier[col] <= upper_bound)\n",
        "    ]\n",
        "\n",
        "print(\"Jumlah data setelah buang semua outlier numerik:\", data_outlier.shape[0])\n"
      ],
      "metadata": {
        "colab": {
          "base_uri": "https://localhost:8080/"
        },
        "id": "LFaPWpxZMb2U",
        "outputId": "3bc05190-b993-483e-8b94-15efe7147279"
      },
      "execution_count": null,
      "outputs": [
        {
          "output_type": "stream",
          "name": "stdout",
          "text": [
            "Jumlah data setelah buang semua outlier numerik: 215087\n"
          ]
        }
      ]
    },
    {
      "cell_type": "code",
      "source": [
        "print(data_outlier.shape)"
      ],
      "metadata": {
        "colab": {
          "base_uri": "https://localhost:8080/"
        },
        "id": "wP6Kp1w8NGPJ",
        "outputId": "88f0e7ad-87a0-4111-84f8-b0f4324d7890"
      },
      "execution_count": null,
      "outputs": [
        {
          "output_type": "stream",
          "name": "stdout",
          "text": [
            "(215087, 23)\n"
          ]
        }
      ]
    },
    {
      "cell_type": "code",
      "source": [
        "import re\n",
        "\n",
        "# Fungsi untuk hapus karakter ilegal Excel\n",
        "def clean_text(x):\n",
        "    if isinstance(x, str):\n",
        "        # hapus karakter ASCII terlarang (\\x00 - \\x1F kecuali tab, newline, carriage return)\n",
        "        return re.sub(r\"[\\x00-\\x08\\x0B-\\x0C\\x0E-\\x1F]\", \"\", x)\n",
        "    return x\n",
        "\n",
        "# Terapkan ke semua kolom object\n",
        "data_outlier = data_outlier.applymap(clean_text)\n",
        "\n",
        "# Baru ekspor\n",
        "data_outlier.to_excel(\"Data_Visualisasi2.xlsx\", index=False)\n",
        "\n",
        "print(\"✅ Data berhasil diekspor ke Data_Visualisasi2.xlsx tanpa karakter ilegal\")\n"
      ],
      "metadata": {
        "colab": {
          "base_uri": "https://localhost:8080/"
        },
        "id": "rGks09N0N0cw",
        "outputId": "c8900d57-8331-45b5-fb05-4bdfb5ce67bf"
      },
      "execution_count": null,
      "outputs": [
        {
          "output_type": "stream",
          "name": "stderr",
          "text": [
            "/tmp/ipython-input-515947681.py:11: FutureWarning: DataFrame.applymap has been deprecated. Use DataFrame.map instead.\n",
            "  data_outlier = data_outlier.applymap(clean_text)\n"
          ]
        },
        {
          "output_type": "stream",
          "name": "stdout",
          "text": [
            "✅ Data berhasil diekspor ke Data_Visualisasi2.xlsx tanpa karakter ilegal\n"
          ]
        }
      ]
    }
  ]
}